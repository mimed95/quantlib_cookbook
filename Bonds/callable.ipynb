{
 "cells": [
  {
   "cell_type": "code",
   "execution_count": 2,
   "metadata": {},
   "outputs": [],
   "source": [
    "import QuantLib as ql\n",
    "import numpy as np\n",
    "%matplotlib inline\n",
    "calc_date = ql.Date(16,8,2016)\n",
    "ql.Settings.instance().evaluationDate = calc_date"
   ]
  },
  {
   "cell_type": "markdown",
   "metadata": {},
   "source": [
    "For simplicity, let us assume that the interest rate term structure is a flat yield curve at 3.5%"
   ]
  },
  {
   "cell_type": "code",
   "execution_count": 3,
   "metadata": {},
   "outputs": [],
   "source": [
    "day_count = ql.ActualActual(ql.ActualActual.Bond)\n",
    "rate = 0.035\n",
    "ts = ql.FlatForward(calc_date, rate,\n",
    "day_count, ql.Compounded,\n",
    "ql.Semiannual)\n",
    "ts_handle = ql.YieldTermStructureHandle(ts)"
   ]
  },
  {
   "cell_type": "code",
   "execution_count": 5,
   "metadata": {},
   "outputs": [],
   "source": [
    "# The call and put schedules for the callable bond is created as shown below. We create a container\n",
    "# for holding all the call and put dates using the CallabilitySchedule class. You can add each call\n",
    "# using Callability class and noting as Callability.Call or Callability.Put for either a call\n",
    "# or put.\n",
    "\n",
    "callability_schedule = ql.CallabilitySchedule()\n",
    "call_price = 100.0\n",
    "call_date = ql.Date(15,ql.September,2016);\n",
    "null_calendar = ql.NullCalendar();\n",
    "for i in range(0,24):\n",
    "    callability_price = ql.BondPrice(\n",
    "        call_price, ql.BondPrice.Clean\n",
    "    )\n",
    "    callability_schedule.append(\n",
    "        ql.Callability(callability_price,\n",
    "                       ql.Callability.Call,\n",
    "                       call_date)\n",
    "    )\n",
    "    call_date = null_calendar.advance(\n",
    "        call_date, 3, ql.Months\n",
    "    )"
   ]
  },
  {
   "cell_type": "code",
   "execution_count": null,
   "metadata": {},
   "outputs": [],
   "source": []
  }
 ],
 "metadata": {
  "kernelspec": {
   "display_name": "Python 3.10.12 ('venv': venv)",
   "language": "python",
   "name": "python3"
  },
  "language_info": {
   "codemirror_mode": {
    "name": "ipython",
    "version": 3
   },
   "file_extension": ".py",
   "mimetype": "text/x-python",
   "name": "python",
   "nbconvert_exporter": "python",
   "pygments_lexer": "ipython3",
   "version": "3.10.12"
  },
  "orig_nbformat": 4,
  "vscode": {
   "interpreter": {
    "hash": "311eef2faeeb04576d59f3e8c6b09d033af2347440a052c7cd9d50ac38b3a24e"
   }
  }
 },
 "nbformat": 4,
 "nbformat_minor": 2
}
