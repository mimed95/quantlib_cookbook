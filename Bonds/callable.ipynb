{
 "cells": [
  {
   "cell_type": "code",
   "execution_count": 13,
   "metadata": {},
   "outputs": [],
   "source": [
    "import QuantLib as ql\n",
    "import numpy as np\n",
    "import matplotlib.pyplot as plt\n",
    "%matplotlib inline\n",
    "calc_date = ql.Date(16,8,2016)\n",
    "ql.Settings.instance().evaluationDate = calc_date"
   ]
  },
  {
   "cell_type": "markdown",
   "metadata": {},
   "source": [
    "For simplicity, let us assume that the interest rate term structure is a flat yield curve at 3.5%"
   ]
  },
  {
   "cell_type": "code",
   "execution_count": 3,
   "metadata": {},
   "outputs": [],
   "source": [
    "day_count = ql.ActualActual(ql.ActualActual.Bond)\n",
    "rate = 0.035\n",
    "ts = ql.FlatForward(calc_date, rate,\n",
    "day_count, ql.Compounded,\n",
    "ql.Semiannual)\n",
    "ts_handle = ql.YieldTermStructureHandle(ts)"
   ]
  },
  {
   "cell_type": "code",
   "execution_count": 5,
   "metadata": {},
   "outputs": [],
   "source": [
    "# The call and put schedules for the callable bond is created as shown below. We create a container\n",
    "# for holding all the call and put dates using the CallabilitySchedule class. You can add each call\n",
    "# using Callability class and noting as Callability.Call or Callability.Put for either a call\n",
    "# or put.\n",
    "\n",
    "callability_schedule = ql.CallabilitySchedule()\n",
    "call_price = 100.0\n",
    "call_date = ql.Date(15,ql.September,2016);\n",
    "null_calendar = ql.NullCalendar();\n",
    "for i in range(0,24):\n",
    "    callability_price = ql.BondPrice(\n",
    "        call_price, ql.BondPrice.Clean\n",
    "    )\n",
    "    callability_schedule.append(\n",
    "        ql.Callability(callability_price,\n",
    "                       ql.Callability.Call,\n",
    "                       call_date)\n",
    "    )\n",
    "    call_date = null_calendar.advance(\n",
    "        call_date, 3, ql.Months\n",
    "    )"
   ]
  },
  {
   "cell_type": "code",
   "execution_count": 6,
   "metadata": {},
   "outputs": [],
   "source": [
    "issue_date = ql.Date(16,ql.September,2014)\n",
    "maturity_date = ql.Date(15,ql.September,2022)\n",
    "calendar = ql.UnitedStates(ql.UnitedStates.GovernmentBond)\n",
    "tenor = ql.Period(ql.Quarterly)\n",
    "accrual_convention = ql.Unadjusted\n",
    "schedule = ql.Schedule(\n",
    "    issue_date, maturity_date, tenor,\n",
    "    calendar, accrual_convention,\n",
    "    accrual_convention,\n",
    "    ql.DateGeneration.Backward, False\n",
    ")"
   ]
  },
  {
   "cell_type": "markdown",
   "metadata": {},
   "source": [
    "## Instantiate the Callable Class"
   ]
  },
  {
   "cell_type": "code",
   "execution_count": 9,
   "metadata": {},
   "outputs": [],
   "source": [
    "settlement_days = 3\n",
    "face_amount = 100\n",
    "accrual_daycount = ql.ActualActual(ql.ActualActual.Bond)\n",
    "coupon = 0.025\n",
    "bond = ql.CallableFixedRateBond(\n",
    "    settlement_days, face_amount,\n",
    "    schedule, [coupon], accrual_daycount,\n",
    "    ql.Following, face_amount, issue_date,\n",
    "    callability_schedule\n",
    ")"
   ]
  },
  {
   "cell_type": "code",
   "execution_count": 10,
   "metadata": {},
   "outputs": [],
   "source": [
    "def value_bond(a, s, grid_points, bond):\n",
    "    model = ql.HullWhite(ts_handle, a, s)\n",
    "    engine = ql.TreeCallableFixedRateBondEngine(model, grid_points)\n",
    "    bond.setPricingEngine(engine)\n",
    "    return bond\n"
   ]
  },
  {
   "cell_type": "code",
   "execution_count": 11,
   "metadata": {},
   "outputs": [
    {
     "name": "stdout",
     "output_type": "stream",
     "text": [
      "Bond price: 68.318102\n"
     ]
    }
   ],
   "source": [
    "# The callable bond value for a 3% mean reversion and 12% volatility is shown below\n",
    "value_bond(0.03, 0.12, 40, bond)\n",
    "print(\"Bond price: %lf\" % bond.cleanPrice())\n"
   ]
  },
  {
   "cell_type": "code",
   "execution_count": 12,
   "metadata": {},
   "outputs": [],
   "source": [
    "sigmas = np.arange(0.001, 0.15, 0.001)\n",
    "prices = [\n",
    "    value_bond(0.03, s, 40, bond).cleanPrice()\n",
    "    for s in sigmas\n",
    "]"
   ]
  },
  {
   "cell_type": "code",
   "execution_count": 14,
   "metadata": {},
   "outputs": [
    {
     "data": {
      "image/png": "[encoded data removed]",
      "text/plain": [
       "<Figure size 640x480 with 1 Axes>"
      ]
     },
     "metadata": {},
     "output_type": "display_data"
    }
   ],
   "source": [
    "\n",
    "plt.plot(sigmas, prices)\n",
    "plt.xlabel(\"Sigma\", size=12)\n",
    "plt.ylabel(\"Price\", size=12)\n",
    "plt.show()"
   ]
  },
  {
   "cell_type": "markdown",
   "metadata": {},
   "source": [
    "The static cash flows can be accessed using the cashflows accessor."
   ]
  },
  {
   "cell_type": "code",
   "execution_count": 15,
   "metadata": {},
   "outputs": [
    {
     "data": {
      "text/html": [
       "<div>\n",
       "<style scoped>\n",
       "    .dataframe tbody tr th:only-of-type {\n",
       "        vertical-align: middle;\n",
       "    }\n",
       "\n",
       "    .dataframe tbody tr th {\n",
       "        vertical-align: top;\n",
       "    }\n",
       "\n",
       "    .dataframe thead th {\n",
       "        text-align: right;\n",
       "    }\n",
       "</style>\n",
       "<table border=\"1\" class=\"dataframe\">\n",
       "  <thead>\n",
       "    <tr style=\"text-align: right;\">\n",
       "      <th></th>\n",
       "      <th>Date</th>\n",
       "      <th>Amount</th>\n",
       "    </tr>\n",
       "  </thead>\n",
       "  <tbody>\n",
       "    <tr>\n",
       "      <th>1</th>\n",
       "      <td>December 15th, 2014</td>\n",
       "      <td>0.618132</td>\n",
       "    </tr>\n",
       "    <tr>\n",
       "      <th>2</th>\n",
       "      <td>March 16th, 2015</td>\n",
       "      <td>0.625000</td>\n",
       "    </tr>\n",
       "    <tr>\n",
       "      <th>3</th>\n",
       "      <td>June 15th, 2015</td>\n",
       "      <td>0.625000</td>\n",
       "    </tr>\n",
       "    <tr>\n",
       "      <th>4</th>\n",
       "      <td>September 15th, 2015</td>\n",
       "      <td>0.625000</td>\n",
       "    </tr>\n",
       "    <tr>\n",
       "      <th>5</th>\n",
       "      <td>December 15th, 2015</td>\n",
       "      <td>0.625000</td>\n",
       "    </tr>\n",
       "    <tr>\n",
       "      <th>6</th>\n",
       "      <td>March 15th, 2016</td>\n",
       "      <td>0.625000</td>\n",
       "    </tr>\n",
       "    <tr>\n",
       "      <th>7</th>\n",
       "      <td>June 15th, 2016</td>\n",
       "      <td>0.625000</td>\n",
       "    </tr>\n",
       "    <tr>\n",
       "      <th>8</th>\n",
       "      <td>September 15th, 2016</td>\n",
       "      <td>0.625000</td>\n",
       "    </tr>\n",
       "    <tr>\n",
       "      <th>9</th>\n",
       "      <td>December 15th, 2016</td>\n",
       "      <td>0.625000</td>\n",
       "    </tr>\n",
       "    <tr>\n",
       "      <th>10</th>\n",
       "      <td>March 15th, 2017</td>\n",
       "      <td>0.625000</td>\n",
       "    </tr>\n",
       "    <tr>\n",
       "      <th>11</th>\n",
       "      <td>June 15th, 2017</td>\n",
       "      <td>0.625000</td>\n",
       "    </tr>\n",
       "    <tr>\n",
       "      <th>12</th>\n",
       "      <td>September 15th, 2017</td>\n",
       "      <td>0.625000</td>\n",
       "    </tr>\n",
       "    <tr>\n",
       "      <th>13</th>\n",
       "      <td>December 15th, 2017</td>\n",
       "      <td>0.625000</td>\n",
       "    </tr>\n",
       "    <tr>\n",
       "      <th>14</th>\n",
       "      <td>March 15th, 2018</td>\n",
       "      <td>0.625000</td>\n",
       "    </tr>\n",
       "    <tr>\n",
       "      <th>15</th>\n",
       "      <td>June 15th, 2018</td>\n",
       "      <td>0.625000</td>\n",
       "    </tr>\n",
       "    <tr>\n",
       "      <th>16</th>\n",
       "      <td>September 17th, 2018</td>\n",
       "      <td>0.625000</td>\n",
       "    </tr>\n",
       "    <tr>\n",
       "      <th>17</th>\n",
       "      <td>December 17th, 2018</td>\n",
       "      <td>0.625000</td>\n",
       "    </tr>\n",
       "    <tr>\n",
       "      <th>18</th>\n",
       "      <td>March 15th, 2019</td>\n",
       "      <td>0.625000</td>\n",
       "    </tr>\n",
       "    <tr>\n",
       "      <th>19</th>\n",
       "      <td>June 17th, 2019</td>\n",
       "      <td>0.625000</td>\n",
       "    </tr>\n",
       "    <tr>\n",
       "      <th>20</th>\n",
       "      <td>September 16th, 2019</td>\n",
       "      <td>0.625000</td>\n",
       "    </tr>\n",
       "    <tr>\n",
       "      <th>21</th>\n",
       "      <td>December 16th, 2019</td>\n",
       "      <td>0.625000</td>\n",
       "    </tr>\n",
       "    <tr>\n",
       "      <th>22</th>\n",
       "      <td>March 16th, 2020</td>\n",
       "      <td>0.625000</td>\n",
       "    </tr>\n",
       "    <tr>\n",
       "      <th>23</th>\n",
       "      <td>June 15th, 2020</td>\n",
       "      <td>0.625000</td>\n",
       "    </tr>\n",
       "    <tr>\n",
       "      <th>24</th>\n",
       "      <td>September 15th, 2020</td>\n",
       "      <td>0.625000</td>\n",
       "    </tr>\n",
       "    <tr>\n",
       "      <th>25</th>\n",
       "      <td>December 15th, 2020</td>\n",
       "      <td>0.625000</td>\n",
       "    </tr>\n",
       "    <tr>\n",
       "      <th>26</th>\n",
       "      <td>March 15th, 2021</td>\n",
       "      <td>0.625000</td>\n",
       "    </tr>\n",
       "    <tr>\n",
       "      <th>27</th>\n",
       "      <td>June 15th, 2021</td>\n",
       "      <td>0.625000</td>\n",
       "    </tr>\n",
       "    <tr>\n",
       "      <th>28</th>\n",
       "      <td>September 15th, 2021</td>\n",
       "      <td>0.625000</td>\n",
       "    </tr>\n",
       "    <tr>\n",
       "      <th>29</th>\n",
       "      <td>December 15th, 2021</td>\n",
       "      <td>0.625000</td>\n",
       "    </tr>\n",
       "    <tr>\n",
       "      <th>30</th>\n",
       "      <td>March 15th, 2022</td>\n",
       "      <td>0.625000</td>\n",
       "    </tr>\n",
       "    <tr>\n",
       "      <th>31</th>\n",
       "      <td>June 15th, 2022</td>\n",
       "      <td>0.625000</td>\n",
       "    </tr>\n",
       "    <tr>\n",
       "      <th>32</th>\n",
       "      <td>September 15th, 2022</td>\n",
       "      <td>0.625000</td>\n",
       "    </tr>\n",
       "    <tr>\n",
       "      <th>33</th>\n",
       "      <td>September 15th, 2022</td>\n",
       "      <td>100.000000</td>\n",
       "    </tr>\n",
       "  </tbody>\n",
       "</table>\n",
       "</div>"
      ],
      "text/plain": [
       "                    Date      Amount\n",
       "1    December 15th, 2014    0.618132\n",
       "2       March 16th, 2015    0.625000\n",
       "3        June 15th, 2015    0.625000\n",
       "4   September 15th, 2015    0.625000\n",
       "5    December 15th, 2015    0.625000\n",
       "6       March 15th, 2016    0.625000\n",
       "7        June 15th, 2016    0.625000\n",
       "8   September 15th, 2016    0.625000\n",
       "9    December 15th, 2016    0.625000\n",
       "10      March 15th, 2017    0.625000\n",
       "11       June 15th, 2017    0.625000\n",
       "12  September 15th, 2017    0.625000\n",
       "13   December 15th, 2017    0.625000\n",
       "14      March 15th, 2018    0.625000\n",
       "15       June 15th, 2018    0.625000\n",
       "16  September 17th, 2018    0.625000\n",
       "17   December 17th, 2018    0.625000\n",
       "18      March 15th, 2019    0.625000\n",
       "19       June 17th, 2019    0.625000\n",
       "20  September 16th, 2019    0.625000\n",
       "21   December 16th, 2019    0.625000\n",
       "22      March 16th, 2020    0.625000\n",
       "23       June 15th, 2020    0.625000\n",
       "24  September 15th, 2020    0.625000\n",
       "25   December 15th, 2020    0.625000\n",
       "26      March 15th, 2021    0.625000\n",
       "27       June 15th, 2021    0.625000\n",
       "28  September 15th, 2021    0.625000\n",
       "29   December 15th, 2021    0.625000\n",
       "30      March 15th, 2022    0.625000\n",
       "31       June 15th, 2022    0.625000\n",
       "32  September 15th, 2022    0.625000\n",
       "33  September 15th, 2022  100.000000"
      ]
     },
     "execution_count": 15,
     "metadata": {},
     "output_type": "execute_result"
    }
   ],
   "source": [
    "from pandas import DataFrame\n",
    "DataFrame(\n",
    "    [(cf.date(), cf.amount()) for cf in bond.cashflows()],\n",
    "    columns=[\"Date\", \"Amount\"],\n",
    "    index=range(1, len(bond.cashflows())+1)\n",
    ")\n"
   ]
  }
 ],
 "metadata": {
  "kernelspec": {
   "display_name": "Python 3.10.12 ('venv': venv)",
   "language": "python",
   "name": "python3"
  },
  "language_info": {
   "codemirror_mode": {
    "name": "ipython",
    "version": 3
   },
   "file_extension": ".py",
   "mimetype": "text/x-python",
   "name": "python",
   "nbconvert_exporter": "python",
   "pygments_lexer": "ipython3",
   "version": "3.10.12"
  },
  "orig_nbformat": 4,
  "vscode": {
   "interpreter": {
    "hash": "311eef2faeeb04576d59f3e8c6b09d033af2347440a052c7cd9d50ac38b3a24e"
   }
  }
 },
 "nbformat": 4,
 "nbformat_minor": 2
}
