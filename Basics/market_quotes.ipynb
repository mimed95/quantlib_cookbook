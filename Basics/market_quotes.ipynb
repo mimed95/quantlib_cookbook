{
 "cells": [
  {
   "cell_type": "code",
   "execution_count": 6,
   "metadata": {},
   "outputs": [],
   "source": [
    "%matplotlib inline\n",
    "import numpy as np\n",
    "import QuantLib as ql\n",
    "import matplotlib.pyplot as plt"
   ]
  },
  {
   "cell_type": "code",
   "execution_count": 3,
   "metadata": {},
   "outputs": [],
   "source": [
    "today = ql.Date(17, ql.October, 2016)\n",
    "ql.Settings.instance().evaluationDate = today"
   ]
  },
  {
   "cell_type": "markdown",
   "metadata": {},
   "source": [
    "For illustration purposes, I’ll create a bond curve using the same data and algorithm shown in one\n",
    "of the QuantLib C++ examples; namely, I’ll give to the curve the functional form defined by the\n",
    "Nelson-Siegel model and I’ll fit it to a number of bond. Here are the maturities in years and the\n",
    "coupons of the bonds I’ll use:"
   ]
  },
  {
   "cell_type": "code",
   "execution_count": 4,
   "metadata": {},
   "outputs": [],
   "source": [
    "data = [\n",
    "    (2, 0.02), (4, 0.0225), (6, 0.025), (8, 0.0275),\n",
    "    (10, 0.03), (12, 0.0325), (14, 0.035), (16, 0.0375),\n",
    "    (18, 0.04), (20, 0.0425), (22, 0.045), (24, 0.0475),\n",
    "    (26, 0.05), (28, 0.0525), (30, 0.055)\n",
    "]"
   ]
  },
  {
   "cell_type": "code",
   "execution_count": 5,
   "metadata": {},
   "outputs": [],
   "source": [
    "# Assume price = 100 for all\n",
    "\n",
    "calendar = ql.TARGET()\n",
    "settlement = calendar.advance(today, 3, ql.Days)\n",
    "quotes = []\n",
    "helpers = []\n",
    "for length, coupon in data:\n",
    "    maturity = calendar.advance(\n",
    "        settlement,\n",
    "        length,\n",
    "        ql.Years\n",
    "    )\n",
    "    schedule = ql.Schedule(\n",
    "        settlement,\n",
    "        maturity,\n",
    "        ql.Period(ql.Annual),\n",
    "        calendar,\n",
    "        ql.ModifiedFollowing,\n",
    "        ql.ModifiedFollowing,\n",
    "        ql.DateGeneration.Backward,\n",
    "        False\n",
    "    )\n",
    "    quote = ql.SimpleQuote(100.0)\n",
    "    quotes.append(quote)\n",
    "    helpers.append(\n",
    "        ql.FixedRateBondHelper(\n",
    "            ql.QuoteHandle(quote), 3, 100.0,\n",
    "            schedule, [coupon], ql.SimpleDayCounter(),\n",
    "            ql.ModifiedFollowing\n",
    "        )\n",
    "    )\n",
    "curve = ql.FittedBondDiscountCurve(\n",
    "    0,\n",
    "    calendar,\n",
    "    helpers,\n",
    "    ql.SimpleDayCounter(),\n",
    "    ql.NelsonSiegelFitting()\n",
    ")"
   ]
  },
  {
   "cell_type": "code",
   "execution_count": 9,
   "metadata": {},
   "outputs": [
    {
     "data": {
      "image/png": "[encoded data removed]",
      "text/plain": [
       "<Figure size 640x480 with 1 Axes>"
      ]
     },
     "metadata": {},
     "output_type": "display_data"
    }
   ],
   "source": [
    "sample_times = np.linspace(0.0, 30.0, 301)\n",
    "sample_discounts = [curve.discount(t) for t in sample_times]\n",
    "plt.plot(sample_times, sample_discounts)\n",
    "plt.ylim(0.0, 1.0)\n",
    "plt.show()"
   ]
  },
  {
   "cell_type": "markdown",
   "metadata": {},
   "source": [
    "Now we price a bond by discounting its coupons on the curve:"
   ]
  },
  {
   "cell_type": "code",
   "execution_count": 11,
   "metadata": {},
   "outputs": [
    {
     "name": "stdout",
     "output_type": "stream",
     "text": [
      "105.77449622178025\n"
     ]
    }
   ],
   "source": [
    "schedule = ql.Schedule(\n",
    "    today,\n",
    "    calendar.advance(today, 15, ql.Years),\n",
    "    ql.Period(ql.Semiannual),\n",
    "    calendar,\n",
    "    ql.ModifiedFollowing,\n",
    "    ql.ModifiedFollowing,\n",
    "    ql.DateGeneration.Backward,\n",
    "    False\n",
    ")\n",
    "bond = ql.FixedRateBond(3, 100.0, schedule, [0.04], ql.Actual360())\n",
    "bond.setPricingEngine(\n",
    "    ql.DiscountingBondEngine(ql.YieldTermStructureHandle(curve))\n",
    ")\n",
    "print(bond.cleanPrice())"
   ]
  },
  {
   "cell_type": "markdown",
   "metadata": {},
   "source": [
    "Now, let’s add an observer that checks whether the bond is out of date, and if so recalculates the\n",
    "bond and outputs its new price. In Python, I can do this by defining a function to be triggered by the\n",
    "notifications, by passing it to the observer I’m creating, and (this last step is as in C++) by registering\n",
    "the observer with the bond.\n",
    "\n",
    "in this case, the bond whose price it wants to monitor. A change in any of the market\n",
    "quotes will cause the quote to notify the helper, which in turn will notify the curve, and so on to the\n",
    "pricing engine, the bond and finally our observer."
   ]
  },
  {
   "cell_type": "code",
   "execution_count": 12,
   "metadata": {},
   "outputs": [],
   "source": [
    "prices = []\n",
    "def print_price():\n",
    "    p = bond.cleanPrice()\n",
    "    prices.append(p)\n",
    "    print(p)\n",
    "o = ql.Observer(print_price)\n",
    "o.registerWith(bond)"
   ]
  },
  {
   "cell_type": "code",
   "execution_count": 18,
   "metadata": {},
   "outputs": [
    {
     "name": "stdout",
     "output_type": "stream",
     "text": [
      "105.77449622178025\n",
      "105.86560413454633\n"
     ]
    }
   ],
   "source": [
    "quotes[2].setValue(101.0)"
   ]
  },
  {
   "cell_type": "markdown",
   "metadata": {},
   "source": [
    "WTH?  \n",
    "The function was called twice, which surprised me too.  \n",
    "It turns out that, due to a glitch of multiple inheritance, the curve sends two notifications\n",
    "to the instrument. After the first, the instrument recalculates but the curve doesn’t (which explains\n",
    "why the price doesn’t change); after the second, the curve updates and the price changes. This should\n",
    "be fixed in a future release, but again it doesn’t change the point of the notebook.\n",
    "Let’s set the quote back to its original value."
   ]
  },
  {
   "cell_type": "code",
   "execution_count": 19,
   "metadata": {},
   "outputs": [
    {
     "name": "stdout",
     "output_type": "stream",
     "text": [
      "105.86560413454633\n",
      "105.77449632602422\n"
     ]
    }
   ],
   "source": [
    "quotes[2].setValue(100.0)"
   ]
  },
  {
   "cell_type": "code",
   "execution_count": 23,
   "metadata": {},
   "outputs": [
    {
     "name": "stdout",
     "output_type": "stream",
     "text": [
      "105.77449628000558\n",
      "105.28388395466223\n",
      "105.28388395466223\n",
      "105.21862872105208\n",
      "105.21862872105208\n",
      "105.31959066297566\n",
      "105.31959066297566\n",
      "105.48786664556528\n",
      "105.48786664556528\n",
      "105.68032068196598\n",
      "105.68032068196598\n",
      "105.8758038874638\n",
      "105.8758038874638\n",
      "106.06201697094023\n",
      "106.06201697094023\n",
      "106.23044665119893\n",
      "106.23044665119893\n",
      "106.37409247796555\n",
      "106.37409247796555\n",
      "106.48708851230232\n",
      "106.48708851230232\n",
      "106.56505215610473\n",
      "106.56505215610473\n",
      "106.60570731612138\n",
      "106.60570731612138\n",
      "106.60980179033257\n",
      "106.60980179033257\n",
      "106.58011155376235\n",
      "106.58011155376235\n",
      "106.52070692307088\n"
     ]
    }
   ],
   "source": [
    "prices = []\n",
    "for q in quotes:\n",
    "    q.setValue(101.0)"
   ]
  },
  {
   "cell_type": "markdown",
   "metadata": {},
   "source": [
    "Each of the updates sent a notification and thus triggered a recalculation. We can use\n",
    "the list of prices we collected (slicing it to skip duplicate values) to visualize how the price changed."
   ]
  },
  {
   "cell_type": "code",
   "execution_count": 25,
   "metadata": {},
   "outputs": [
    {
     "data": {
      "image/png": "[encoded data removed]",
      "text/plain": [
       "<Figure size 640x480 with 1 Axes>"
      ]
     },
     "metadata": {},
     "output_type": "display_data"
    }
   ],
   "source": [
    "unique_prices = prices[::2]+prices[-1::]\n",
    "ax = plt.plot(unique_prices, '-')\n",
    "plt.show()"
   ]
  },
  {
   "cell_type": "markdown",
   "metadata": {},
   "source": [
    "The first price is the original one, and the last price is the final one; but all those in between are\n",
    "calculated based on an incomplete set of changes in which some quotes were updated and some\n",
    "others weren’t. Those are all incorrect, and (since they went both above and below the range of the\n",
    "real prices) outright dangerous in case there were any triggers on price levels that could have fired.\n",
    "Clearly, this is not the kind of behavior we want our code to have."
   ]
  },
  {
   "cell_type": "markdown",
   "metadata": {},
   "source": [
    "## Workarounds\n",
    "\n",
    "- Freeze bond\n",
    "- Pull, don't push"
   ]
  },
  {
   "cell_type": "code",
   "execution_count": 26,
   "metadata": {},
   "outputs": [],
   "source": [
    "# let's remove the observer\n",
    "del o\n",
    "# instead create one that raises a flag when notified"
   ]
  },
  {
   "cell_type": "code",
   "execution_count": 27,
   "metadata": {},
   "outputs": [],
   "source": [
    "flag = {}\n",
    "flag ['status'] = 'down'\n",
    "def set_flag():\n",
    "    flag['status'] = 'up'\n",
    "o = ql.Observer(set_flag)\n",
    "o.registerWith(bond)"
   ]
  },
  {
   "cell_type": "code",
   "execution_count": 29,
   "metadata": {},
   "outputs": [
    {
     "name": "stdout",
     "output_type": "stream",
     "text": [
      "{'status': 'down'}\n"
     ]
    }
   ],
   "source": [
    "print(flag)"
   ]
  },
  {
   "cell_type": "code",
   "execution_count": 30,
   "metadata": {},
   "outputs": [],
   "source": [
    "for q in quotes:\n",
    "    q.setValue(100.0)"
   ]
  },
  {
   "cell_type": "code",
   "execution_count": 31,
   "metadata": {},
   "outputs": [
    {
     "name": "stdout",
     "output_type": "stream",
     "text": [
      "{'status': 'up'}\n"
     ]
    }
   ],
   "source": [
    "print(flag)"
   ]
  },
  {
   "cell_type": "markdown",
   "metadata": {},
   "source": [
    "At this point, we can ask the bond for its final price."
   ]
  },
  {
   "cell_type": "code",
   "execution_count": 32,
   "metadata": {},
   "outputs": [
    {
     "data": {
      "text/plain": [
       "105.77449629793355"
      ]
     },
     "execution_count": 32,
     "metadata": {},
     "output_type": "execute_result"
    }
   ],
   "source": [
    "bond.cleanPrice()"
   ]
  },
  {
   "cell_type": "markdown",
   "metadata": {},
   "source": [
    "We can even the instrument do that: let’s remove the second observer too, and just ask\n",
    "the instrument for its price after the changes. The instrument keeps track of whether it needs\n",
    "recalculation, so it doesn’t need us to keep track of it."
   ]
  },
  {
   "cell_type": "code",
   "execution_count": 33,
   "metadata": {},
   "outputs": [],
   "source": [
    "del o"
   ]
  },
  {
   "cell_type": "code",
   "execution_count": 34,
   "metadata": {},
   "outputs": [],
   "source": [
    "for q in quotes:\n",
    "    q.setValue(101.0)"
   ]
  },
  {
   "cell_type": "code",
   "execution_count": 35,
   "metadata": {},
   "outputs": [
    {
     "data": {
      "text/plain": [
       "106.52070671003756"
      ]
     },
     "execution_count": 35,
     "metadata": {},
     "output_type": "execute_result"
    }
   ],
   "source": [
    "bond.cleanPrice()"
   ]
  },
  {
   "cell_type": "code",
   "execution_count": null,
   "metadata": {},
   "outputs": [],
   "source": []
  }
 ],
 "metadata": {
  "kernelspec": {
   "display_name": "venv",
   "language": "python",
   "name": "python3"
  },
  "language_info": {
   "codemirror_mode": {
    "name": "ipython",
    "version": 3
   },
   "file_extension": ".py",
   "mimetype": "text/x-python",
   "name": "python",
   "nbconvert_exporter": "python",
   "pygments_lexer": "ipython3",
   "version": "3.11.6"
  }
 },
 "nbformat": 4,
 "nbformat_minor": 2
}
