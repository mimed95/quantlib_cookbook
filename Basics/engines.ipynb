{
 "cells": [
  {
   "cell_type": "code",
   "execution_count": 1,
   "metadata": {},
   "outputs": [],
   "source": [
    "%matplotlib inline\n",
    "import numpy as np\n",
    "import QuantLib as ql"
   ]
  },
  {
   "cell_type": "code",
   "execution_count": 2,
   "metadata": {},
   "outputs": [],
   "source": [
    "today = ql.Date(7, ql.March, 2023)\n",
    "ql.Settings.instance().evaluationDate = today"
   ]
  },
  {
   "cell_type": "markdown",
   "metadata": {},
   "source": [
    "## The instrument  \n",
    "As a sample instrument, we’ll take a textbook example: a European option."
   ]
  },
  {
   "cell_type": "code",
   "execution_count": 3,
   "metadata": {},
   "outputs": [],
   "source": [
    "option = ql.EuropeanOption(\n",
    "    ql.PlainVanillaPayoff(ql.Option.Call, 100.0),\n",
    "    ql.EuropeanExercise(ql.Date(7, ql.June, 2023))\n",
    ")"
   ]
  },
  {
   "cell_type": "markdown",
   "metadata": {},
   "source": [
    "## First pricing method: analytic Black-Scholes formula  \n",
    "The different pricing methods are implemented as pricing engines holding the required market data.  \n",
    "The first we’ll use is the one encapsulating the analytic Black-Scholes formula.  \n",
    "First, we collect the quoted market data. We’ll assume flat risk-free rate and volatility, so they can\n",
    "be expressed by **SimpleQuote** instances: those model numbers whose value can change and that\n",
    "can notify observers when this happens. The underlying value is at 100, the risk-free value at 1%,\n",
    "and the volatility at 20%."
   ]
  },
  {
   "cell_type": "code",
   "execution_count": 4,
   "metadata": {},
   "outputs": [],
   "source": [
    "u = ql.SimpleQuote(100.0)\n",
    "r = ql.SimpleQuote(0.01)\n",
    "sigma = ql.SimpleQuote(0.20)\n",
    "riskFreeCurve = ql.FlatForward(\n",
    "    0, ql.TARGET(), ql.QuoteHandle(r), ql.Actual360()\n",
    ")\n",
    "volatility = ql.BlackConstantVol(\n",
    "    0, ql.TARGET(), ql.QuoteHandle(sigma), ql.Actual360()\n",
    ")"
   ]
  },
  {
   "cell_type": "code",
   "execution_count": 5,
   "metadata": {},
   "outputs": [
    {
     "name": "stdout",
     "output_type": "stream",
     "text": [
      "4.155543462156206\n",
      "\n",
      "Greeks:\n",
      "0.5302223303784392\n",
      "0.03934493301271913\n",
      "20.109632428723106\n"
     ]
    }
   ],
   "source": [
    "process = ql.BlackScholesProcess(\n",
    "    ql.QuoteHandle(u),\n",
    "    ql.YieldTermStructureHandle(riskFreeCurve),\n",
    "    ql.BlackVolTermStructureHandle(volatility)\n",
    ")\n",
    "engine = ql.AnalyticEuropeanEngine(process)\n",
    "option.setPricingEngine(engine)\n",
    "print(option.NPV())\n",
    "print(\"\\nGreeks:\")\n",
    "print(option.delta())\n",
    "print(option.gamma())\n",
    "print(option.vega())"
   ]
  },
  {
   "cell_type": "markdown",
   "metadata": {},
   "source": [
    "## Market changes  \n",
    "As I mentioned, market data are stored in Quote instances and thus can notify the option when any\n",
    "of them changes. We don’t have to do anything explicitly to tell the option to recalculate: once we\n",
    "set a new value to the underlying, we can simply ask the option for its NPV again and we’ll get the\n",
    "updated value."
   ]
  },
  {
   "cell_type": "code",
   "execution_count": 6,
   "metadata": {},
   "outputs": [
    {
     "name": "stdout",
     "output_type": "stream",
     "text": [
      "7.27556357927846\n"
     ]
    }
   ],
   "source": [
    "u.setValue(105)\n",
    "print(option.NPV())"
   ]
  },
  {
   "cell_type": "code",
   "execution_count": 12,
   "metadata": {},
   "outputs": [
    {
     "name": "stdout",
     "output_type": "stream",
     "text": [
      "7.295356086978629\n"
     ]
    }
   ],
   "source": [
    "ql.Settings.instance().evaluationDate = today\n",
    "u.setValue(105.0)\n",
    "r.setValue(0.01)\n",
    "sigma.setValue(0.20)\n",
    "print(option.NPV())"
   ]
  },
  {
   "cell_type": "markdown",
   "metadata": {},
   "source": [
    "## Other pricing methods  \n",
    "The pricing-engine mechanism allows us to use different pricing methods. For comparison, I’ll first\n",
    "set the input data back to what they were previously and output the Black-Scholes price."
   ]
  },
  {
   "cell_type": "code",
   "execution_count": 13,
   "metadata": {},
   "outputs": [
    {
     "name": "stdout",
     "output_type": "stream",
     "text": [
      "7.295356086978629\n"
     ]
    }
   ],
   "source": [
    "model = ql.HestonModel(\n",
    "    ql.HestonProcess(\n",
    "        ql.YieldTermStructureHandle(riskFreeCurve),\n",
    "        ql.YieldTermStructureHandle(ql.FlatForward(0, ql.TARGET(), 0, ql.Actual360())),\n",
    "        ql.QuoteHandle(u),\n",
    "        0.04, 0.1, 0.01, 0.05, -0.75\n",
    "    )\n",
    ")\n",
    "\n",
    "engine = ql.AnalyticHestonEngine(model)\n",
    "option.setPricingEngine(engine)\n",
    "print(option.NPV())"
   ]
  }
 ],
 "metadata": {
  "kernelspec": {
   "display_name": "Python 3.10.12 ('venv': venv)",
   "language": "python",
   "name": "python3"
  },
  "language_info": {
   "codemirror_mode": {
    "name": "ipython",
    "version": 3
   },
   "file_extension": ".py",
   "mimetype": "text/x-python",
   "name": "python",
   "nbconvert_exporter": "python",
   "pygments_lexer": "ipython3",
   "version": "3.11.6"
  },
  "orig_nbformat": 4,
  "vscode": {
   "interpreter": {
    "hash": "311eef2faeeb04576d59f3e8c6b09d033af2347440a052c7cd9d50ac38b3a24e"
   }
  }
 },
 "nbformat": 4,
 "nbformat_minor": 2
}
