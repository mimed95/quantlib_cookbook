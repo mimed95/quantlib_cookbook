{
 "cells": [
  {
   "cell_type": "code",
   "execution_count": 1,
   "metadata": {},
   "outputs": [],
   "source": [
    "import QuantLib as ql\n",
    "import pandas as pd"
   ]
  },
  {
   "cell_type": "markdown",
   "metadata": {},
   "source": [
    "## The Date Class"
   ]
  },
  {
   "cell_type": "code",
   "execution_count": 4,
   "metadata": {},
   "outputs": [
    {
     "name": "stdout",
     "output_type": "stream",
     "text": [
      "Add a day : April 1st, 2015\n",
      "Subtract a day : March 30th, 2015\n",
      "Add a week : April 7th, 2015\n",
      "Add a month : April 30th, 2015\n",
      "Add a year : March 31st, 2016\n"
     ]
    }
   ],
   "source": [
    "date = ql.Date(31,3,2015)\n",
    "\n",
    "print(\"Add a day : {0}\".format(date + 1))\n",
    "print(\"Subtract a day : {0}\".format(date - 1))\n",
    "print(\"Add a week : {0}\".format(date + ql.Period(1, ql.Weeks)))\n",
    "print(\"Add a month : {0}\".format(date + ql.Period(1, ql.Months)))\n",
    "print(\"Add a year : {0}\".format(date + ql.Period(1, ql.Years)))\n"
   ]
  },
  {
   "cell_type": "markdown",
   "metadata": {},
   "source": [
    "## The Calendar Class"
   ]
  },
  {
   "cell_type": "code",
   "execution_count": 5,
   "metadata": {},
   "outputs": [
    {
     "name": "stdout",
     "output_type": "stream",
     "text": [
      "Add 60 days: May 30th, 2015\n",
      "Add 60 business days in US: June 24th, 2015\n",
      "Add 60 business days in Italy: June 26th, 2015\n"
     ]
    }
   ],
   "source": [
    "date = ql.Date(31, 3, 2015)\n",
    "us_calendar = ql.UnitedStates(ql.UnitedStates.GovernmentBond)\n",
    "italy_calendar = ql.Italy()\n",
    "period = ql.Period(60, ql.Days)\n",
    "raw_date = date + period\n",
    "us_date = us_calendar.advance(date, period)\n",
    "italy_date = italy_calendar.advance(date, period)\n",
    "print(\"Add 60 days: {0}\".format(raw_date))\n",
    "print(\"Add 60 business days in US: {0}\".format(us_date))\n",
    "print(\"Add 60 business days in Italy: {0}\".format(italy_date))\n"
   ]
  },
  {
   "cell_type": "code",
   "execution_count": 6,
   "metadata": {},
   "outputs": [
    {
     "name": "stdout",
     "output_type": "stream",
     "text": [
      "Business days US: 60\n",
      "Business days Italy: 60\n"
     ]
    }
   ],
   "source": [
    "## Count number of business days\n",
    "us_busdays = us_calendar.businessDaysBetween(date, us_date)\n",
    "italy_busdays = italy_calendar.businessDaysBetween(date, italy_date)\n",
    "print(\"Business days US: {0}\".format(us_busdays))\n",
    "print(\"Business days Italy: {0}\".format(italy_busdays))\n"
   ]
  },
  {
   "cell_type": "markdown",
   "metadata": {},
   "source": [
    "JointCalendar allows us to combine multiple calendars' holidays. "
   ]
  },
  {
   "cell_type": "code",
   "execution_count": 7,
   "metadata": {},
   "outputs": [
    {
     "name": "stdout",
     "output_type": "stream",
     "text": [
      "Add 60 business days in US-Italy: June 29th, 2015\n",
      "Business days US-Italy: 60\n"
     ]
    }
   ],
   "source": [
    "joint_calendar = ql.JointCalendar(us_calendar, italy_calendar)\n",
    "joint_date = joint_calendar.advance(date, period)\n",
    "joint_busdays = joint_calendar.businessDaysBetween(date, joint_date)\n",
    "print(\"Add 60 business days in US-Italy: {0}\".format(joint_date))\n",
    "print(\"Business days US-Italy: {0}\".format(joint_busdays))"
   ]
  },
  {
   "cell_type": "markdown",
   "metadata": {},
   "source": [
    "## Schedule Class  \n",
    "The **Schedule** object is necessary in creating coupon schedules or call schedules. Schedule object\n",
    "constructors have the following signature:"
   ]
  },
  {
   "cell_type": "code",
   "execution_count": 17,
   "metadata": {},
   "outputs": [
    {
     "data": {
      "text/html": [
       "<div>\n",
       "<style scoped>\n",
       "    .dataframe tbody tr th:only-of-type {\n",
       "        vertical-align: middle;\n",
       "    }\n",
       "\n",
       "    .dataframe tbody tr th {\n",
       "        vertical-align: top;\n",
       "    }\n",
       "\n",
       "    .dataframe thead th {\n",
       "        text-align: right;\n",
       "    }\n",
       "</style>\n",
       "<table border=\"1\" class=\"dataframe\">\n",
       "  <thead>\n",
       "    <tr style=\"text-align: right;\">\n",
       "      <th></th>\n",
       "      <th>date</th>\n",
       "    </tr>\n",
       "  </thead>\n",
       "  <tbody>\n",
       "    <tr>\n",
       "      <th>0</th>\n",
       "      <td>January 2nd, 2015</td>\n",
       "    </tr>\n",
       "    <tr>\n",
       "      <th>1</th>\n",
       "      <td>January 15th, 2015</td>\n",
       "    </tr>\n",
       "    <tr>\n",
       "      <th>2</th>\n",
       "      <td>February 17th, 2015</td>\n",
       "    </tr>\n",
       "    <tr>\n",
       "      <th>3</th>\n",
       "      <td>March 16th, 2015</td>\n",
       "    </tr>\n",
       "    <tr>\n",
       "      <th>4</th>\n",
       "      <td>April 15th, 2015</td>\n",
       "    </tr>\n",
       "    <tr>\n",
       "      <th>5</th>\n",
       "      <td>May 15th, 2015</td>\n",
       "    </tr>\n",
       "    <tr>\n",
       "      <th>6</th>\n",
       "      <td>June 15th, 2015</td>\n",
       "    </tr>\n",
       "    <tr>\n",
       "      <th>7</th>\n",
       "      <td>July 15th, 2015</td>\n",
       "    </tr>\n",
       "    <tr>\n",
       "      <th>8</th>\n",
       "      <td>August 17th, 2015</td>\n",
       "    </tr>\n",
       "    <tr>\n",
       "      <th>9</th>\n",
       "      <td>September 15th, 2015</td>\n",
       "    </tr>\n",
       "    <tr>\n",
       "      <th>10</th>\n",
       "      <td>October 15th, 2015</td>\n",
       "    </tr>\n",
       "    <tr>\n",
       "      <th>11</th>\n",
       "      <td>November 16th, 2015</td>\n",
       "    </tr>\n",
       "    <tr>\n",
       "      <th>12</th>\n",
       "      <td>December 15th, 2015</td>\n",
       "    </tr>\n",
       "    <tr>\n",
       "      <th>13</th>\n",
       "      <td>January 4th, 2016</td>\n",
       "    </tr>\n",
       "  </tbody>\n",
       "</table>\n",
       "</div>"
      ],
      "text/plain": [
       "                    date\n",
       "0      January 2nd, 2015\n",
       "1     January 15th, 2015\n",
       "2    February 17th, 2015\n",
       "3       March 16th, 2015\n",
       "4       April 15th, 2015\n",
       "5         May 15th, 2015\n",
       "6        June 15th, 2015\n",
       "7        July 15th, 2015\n",
       "8      August 17th, 2015\n",
       "9   September 15th, 2015\n",
       "10    October 15th, 2015\n",
       "11   November 16th, 2015\n",
       "12   December 15th, 2015\n",
       "13     January 4th, 2016"
      ]
     },
     "execution_count": 17,
     "metadata": {},
     "output_type": "execute_result"
    }
   ],
   "source": [
    "effective_date = ql.Date(1, 1, 2015)\n",
    "first_date = ql.Date(15,1,2015)\n",
    "termination_date = ql.Date(1, 1, 2016)\n",
    "tenor = ql.Period(ql.Monthly)\n",
    "calendar = ql.UnitedStates(ql.UnitedStates.GovernmentBond)\n",
    "business_convention = ql.Following\n",
    "termination_business_convention = ql.Following\n",
    "date_generation = ql.DateGeneration.Forward\n",
    "end_of_month = False\n",
    "schedule = ql.Schedule(\n",
    "    effective_date,\n",
    "    termination_date,\n",
    "    tenor,\n",
    "    calendar,\n",
    "    business_convention,\n",
    "    termination_business_convention,\n",
    "    date_generation,\n",
    "    end_of_month,\n",
    "    first_date\n",
    ")\n",
    "pd.DataFrame({'date': list(schedule)})\n"
   ]
  },
  {
   "cell_type": "markdown",
   "metadata": {},
   "source": [
    "## Interest Rate  \n",
    "The **InterestRate** class can be used to store the interest rate with the compounding type, day\n",
    "count and the frequency of compounding. Below we show how to create an interest rate of 5.0%\n",
    "compounded annually, using Actual/Actual day count convention."
   ]
  },
  {
   "cell_type": "code",
   "execution_count": 18,
   "metadata": {},
   "outputs": [
    {
     "name": "stdout",
     "output_type": "stream",
     "text": [
      "5.000000 % Actual/Actual (ISDA) Annual compounding\n"
     ]
    }
   ],
   "source": [
    "annual_rate = 0.05\n",
    "day_count = ql.ActualActual(ql.ActualActual.ISDA)\n",
    "compound_type = ql.Compounded\n",
    "frequency = ql.Annual\n",
    "interest_rate = ql.InterestRate(annual_rate,\n",
    "day_count,\n",
    "compound_type,\n",
    "frequency)\n",
    "print(interest_rate)"
   ]
  }
 ],
 "metadata": {
  "kernelspec": {
   "display_name": "Python 3.10.12 ('venv': venv)",
   "language": "python",
   "name": "python3"
  },
  "language_info": {
   "codemirror_mode": {
    "name": "ipython",
    "version": 3
   },
   "file_extension": ".py",
   "mimetype": "text/x-python",
   "name": "python",
   "nbconvert_exporter": "python",
   "pygments_lexer": "ipython3",
   "version": "3.10.12"
  },
  "orig_nbformat": 4,
  "vscode": {
   "interpreter": {
    "hash": "311eef2faeeb04576d59f3e8c6b09d033af2347440a052c7cd9d50ac38b3a24e"
   }
  }
 },
 "nbformat": 4,
 "nbformat_minor": 2
}
