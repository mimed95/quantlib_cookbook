{
 "cells": [
  {
   "cell_type": "code",
   "execution_count": 1,
   "metadata": {},
   "outputs": [],
   "source": [
    "import QuantLib as ql\n",
    "import pandas as pd\n",
    "import numpy as np\n",
    "\n",
    "%matplotlib inline\n"
   ]
  },
  {
   "cell_type": "code",
   "execution_count": 2,
   "metadata": {},
   "outputs": [],
   "source": [
    "ql.Settings.instance().evaluationDate = ql.Date(3, ql.October, 2014)"
   ]
  },
  {
   "cell_type": "markdown",
   "metadata": {},
   "source": [
    "## Specifying the reference date of a term structure  \n",
    "In not-too-accurate terms, the reference date of a term structure is where it begins. It can be the\n",
    "evaluation date, but you might also want it to start on the spot date, for instance.  \n",
    "We have two possibilities to define a reference date for a curve—even though some particular classes\n",
    "only allow one of them.  \n",
    "The first is to define it by means of a (possibly null) offset from the current evaluation date; e.g.,\n",
    "“two business days after the evaluation date” to define it as the spot date, or “no business days” to\n",
    "define it as the evaluation date itself. I’ll do it here by building a sample curve over a few swaps."
   ]
  },
  {
   "cell_type": "code",
   "execution_count": 3,
   "metadata": {},
   "outputs": [],
   "source": [
    "helpers = [\n",
    "    ql.SwapRateHelper(\n",
    "        ql.QuoteHandle(ql.SimpleQuote(rate/100)),\n",
    "        ql.Period(*tenor), ql.TARGET(),\n",
    "        ql.Annual,\n",
    "        ql.Unadjusted,\n",
    "        ql.Thirty360(ql.Thirty360.BondBasis),\n",
    "        ql.Euribor6M()\n",
    "    )\n",
    "    for tenor, rate in [\n",
    "        ((2,ql.Years), 0.201),\n",
    "        ((3,ql.Years), 0.258),\n",
    "        ((5,ql.Years), 0.464),\n",
    "        ((10,ql.Years), 1.151),\n",
    "        ((15,ql.Years), 1.588)\n",
    "    ]\n",
    "]"
   ]
  },
  {
   "cell_type": "code",
   "execution_count": 4,
   "metadata": {},
   "outputs": [],
   "source": [
    "curve1 = ql.PiecewiseFlatForward(0, ql.TARGET(), helpers, ql.Actual360())"
   ]
  },
  {
   "cell_type": "code",
   "execution_count": 6,
   "metadata": {},
   "outputs": [],
   "source": [
    "dates, rates = zip(*curve1.nodes())"
   ]
  },
  {
   "cell_type": "code",
   "execution_count": 11,
   "metadata": {},
   "outputs": [
    {
     "data": {
      "text/plain": [
       "((Date(3,10,2014), 0.0019777694879293093),\n",
       " (Date(7,10,2016), 0.0019777694879293093),\n",
       " (Date(9,10,2017), 0.0036475517704509294),\n",
       " (Date(7,10,2019), 0.007660760701876805),\n",
       " (Date(7,10,2024), 0.018414773669420893),\n",
       " (Date(8,10,2029), 0.025311634328221498))"
      ]
     },
     "execution_count": 11,
     "metadata": {},
     "output_type": "execute_result"
    }
   ],
   "source": [
    "curve1.nodes()"
   ]
  },
  {
   "cell_type": "markdown",
   "metadata": {},
   "source": [
    "The curve built based on these data will be the same as the first, except that we’re specifying its\n",
    "reference date explicitly as October 3rd (the first passed date)."
   ]
  },
  {
   "cell_type": "code",
   "execution_count": 12,
   "metadata": {},
   "outputs": [],
   "source": [
    "curve2 = ql.ForwardCurve(dates, rates, ql.Actual360())"
   ]
  },
  {
   "cell_type": "code",
   "execution_count": 14,
   "metadata": {},
   "outputs": [
    {
     "name": "stdout",
     "output_type": "stream",
     "text": [
      "October 3rd, 2014 to October 8th, 2029\n",
      "October 3rd, 2014 to October 8th, 2029\n"
     ]
    }
   ],
   "source": [
    "print(f\"{curve1.referenceDate()} to {curve1.maxDate()}\")\n",
    "print(f\"{curve2.referenceDate()} to {curve2.maxDate()}\")"
   ]
  },
  {
   "cell_type": "code",
   "execution_count": 15,
   "metadata": {},
   "outputs": [
    {
     "name": "stdout",
     "output_type": "stream",
     "text": [
      "0.452196 % Actual/360 continuous compounding\n",
      "0.452196 % Actual/360 continuous compounding\n"
     ]
    }
   ],
   "source": [
    "print(curve1.zeroRate(5.0, ql.Continuous))\n",
    "print(curve2.zeroRate(5.0, ql.Continuous))"
   ]
  },
  {
   "cell_type": "code",
   "execution_count": 16,
   "metadata": {},
   "outputs": [
    {
     "name": "stdout",
     "output_type": "stream",
     "text": [
      "0.452196 % Actual/360 continuous compounding\n",
      "0.452196 % Actual/360 continuous compounding\n"
     ]
    }
   ],
   "source": [
    "print(curve1.zeroRate(\n",
    "    ql.Date(7, ql.September, 2019),\n",
    "    ql.Actual360(),\n",
    "    ql.Continuous\n",
    "))\n",
    "print(curve2.zeroRate(\n",
    "    ql.Date(7, ql.September, 2019),\n",
    "    ql.Actual360(),\n",
    "    ql.Continuous\n",
    "))"
   ]
  },
  {
   "cell_type": "markdown",
   "metadata": {},
   "source": [
    "## Constructing a yield curve"
   ]
  },
  {
   "cell_type": "code",
   "execution_count": 4,
   "metadata": {},
   "outputs": [
    {
     "data": {
      "text/html": [
       "<div>\n",
       "<style scoped>\n",
       "    .dataframe tbody tr th:only-of-type {\n",
       "        vertical-align: middle;\n",
       "    }\n",
       "\n",
       "    .dataframe tbody tr th {\n",
       "        vertical-align: top;\n",
       "    }\n",
       "\n",
       "    .dataframe thead th {\n",
       "        text-align: right;\n",
       "    }\n",
       "</style>\n",
       "<table border=\"1\" class=\"dataframe\">\n",
       "  <thead>\n",
       "    <tr style=\"text-align: right;\">\n",
       "      <th></th>\n",
       "      <th>Maturities</th>\n",
       "      <th>Curve</th>\n",
       "    </tr>\n",
       "  </thead>\n",
       "  <tbody>\n",
       "    <tr>\n",
       "      <th></th>\n",
       "      <td>6M</td>\n",
       "      <td>5.25</td>\n",
       "    </tr>\n",
       "    <tr>\n",
       "      <th></th>\n",
       "      <td>12M</td>\n",
       "      <td>5.50</td>\n",
       "    </tr>\n",
       "    <tr>\n",
       "      <th></th>\n",
       "      <td>18M</td>\n",
       "      <td>5.75</td>\n",
       "    </tr>\n",
       "    <tr>\n",
       "      <th></th>\n",
       "      <td>24M</td>\n",
       "      <td>6.00</td>\n",
       "    </tr>\n",
       "    <tr>\n",
       "      <th></th>\n",
       "      <td>30M</td>\n",
       "      <td>6.25</td>\n",
       "    </tr>\n",
       "    <tr>\n",
       "      <th></th>\n",
       "      <td>36M</td>\n",
       "      <td>6.50</td>\n",
       "    </tr>\n",
       "    <tr>\n",
       "      <th></th>\n",
       "      <td>42M</td>\n",
       "      <td>6.75</td>\n",
       "    </tr>\n",
       "    <tr>\n",
       "      <th></th>\n",
       "      <td>48M</td>\n",
       "      <td>6.80</td>\n",
       "    </tr>\n",
       "    <tr>\n",
       "      <th></th>\n",
       "      <td>54M</td>\n",
       "      <td>7.00</td>\n",
       "    </tr>\n",
       "    <tr>\n",
       "      <th></th>\n",
       "      <td>60M</td>\n",
       "      <td>7.10</td>\n",
       "    </tr>\n",
       "    <tr>\n",
       "      <th></th>\n",
       "      <td>66M</td>\n",
       "      <td>7.15</td>\n",
       "    </tr>\n",
       "    <tr>\n",
       "      <th></th>\n",
       "      <td>72M</td>\n",
       "      <td>7.20</td>\n",
       "    </tr>\n",
       "    <tr>\n",
       "      <th></th>\n",
       "      <td>78M</td>\n",
       "      <td>7.30</td>\n",
       "    </tr>\n",
       "    <tr>\n",
       "      <th></th>\n",
       "      <td>84M</td>\n",
       "      <td>7.35</td>\n",
       "    </tr>\n",
       "    <tr>\n",
       "      <th></th>\n",
       "      <td>90M</td>\n",
       "      <td>7.40</td>\n",
       "    </tr>\n",
       "    <tr>\n",
       "      <th></th>\n",
       "      <td>96M</td>\n",
       "      <td>7.50</td>\n",
       "    </tr>\n",
       "    <tr>\n",
       "      <th></th>\n",
       "      <td>102M</td>\n",
       "      <td>7.60</td>\n",
       "    </tr>\n",
       "    <tr>\n",
       "      <th></th>\n",
       "      <td>108M</td>\n",
       "      <td>7.60</td>\n",
       "    </tr>\n",
       "    <tr>\n",
       "      <th></th>\n",
       "      <td>114M</td>\n",
       "      <td>7.70</td>\n",
       "    </tr>\n",
       "    <tr>\n",
       "      <th></th>\n",
       "      <td>120M</td>\n",
       "      <td>7.80</td>\n",
       "    </tr>\n",
       "  </tbody>\n",
       "</table>\n",
       "</div>"
      ],
      "text/plain": [
       " Maturities  Curve\n",
       "         6M   5.25\n",
       "        12M   5.50\n",
       "        18M   5.75\n",
       "        24M   6.00\n",
       "        30M   6.25\n",
       "        36M   6.50\n",
       "        42M   6.75\n",
       "        48M   6.80\n",
       "        54M   7.00\n",
       "        60M   7.10\n",
       "        66M   7.15\n",
       "        72M   7.20\n",
       "        78M   7.30\n",
       "        84M   7.35\n",
       "        90M   7.40\n",
       "        96M   7.50\n",
       "       102M   7.60\n",
       "       108M   7.60\n",
       "       114M   7.70\n",
       "       120M   7.80"
      ]
     },
     "execution_count": 4,
     "metadata": {},
     "output_type": "execute_result"
    }
   ],
   "source": [
    "depo_maturities = [ql.Period(6,ql.Months), ql.Period(12, ql.Months)]\n",
    "depo_rates = [5.25, 5.5]\n",
    "# Bond rates\n",
    "bond_maturities = [ql.Period(6*i, ql.Months) for i in range(3,21)]\n",
    "bond_rates = [5.75, 6.0, 6.25, 6.5, 6.75, 6.80, 7.00, 7.1, 7.15,\n",
    "7.2, 7.3, 7.35, 7.4, 7.5, 7.6, 7.6, 7.7, 7.8]\n",
    "maturities = depo_maturities+bond_maturities\n",
    "rates = depo_rates+bond_rates\n",
    "pd.DataFrame(\n",
    "    list(zip(maturities, rates)),\n",
    "    columns=[\"Maturities\",\"Curve\"],\n",
    "    index=['']*len(rates)\n",
    ")\n"
   ]
  },
  {
   "cell_type": "code",
   "execution_count": 2,
   "metadata": {},
   "outputs": [],
   "source": [
    "calc_date = ql.Date(15, 1, 2015)\n",
    "ql.Settings.instance().evaluationDate = calc_date\n",
    "calendar = ql.UnitedStates(ql.UnitedStates.GovernmentBond)\n",
    "business_convention = ql.Unadjusted\n",
    "day_count = ql.Thirty360(ql.Thirty360.BondBasis)\n",
    "end_of_month = True\n",
    "settlement_days = 0\n",
    "face_amount = 100\n",
    "coupon_frequency = ql.Period(ql.Semiannual)\n",
    "settlement_days = 0"
   ]
  },
  {
   "cell_type": "code",
   "execution_count": null,
   "metadata": {},
   "outputs": [],
   "source": []
  }
 ],
 "metadata": {
  "kernelspec": {
   "display_name": "Python 3.10.12 ('venv': venv)",
   "language": "python",
   "name": "python3"
  },
  "language_info": {
   "codemirror_mode": {
    "name": "ipython",
    "version": 3
   },
   "file_extension": ".py",
   "mimetype": "text/x-python",
   "name": "python",
   "nbconvert_exporter": "python",
   "pygments_lexer": "ipython3",
   "version": "3.10.12"
  },
  "vscode": {
   "interpreter": {
    "hash": "311eef2faeeb04576d59f3e8c6b09d033af2347440a052c7cd9d50ac38b3a24e"
   }
  }
 },
 "nbformat": 4,
 "nbformat_minor": 2
}
