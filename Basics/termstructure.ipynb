{
 "cells": [
  {
   "cell_type": "code",
   "execution_count": 1,
   "metadata": {},
   "outputs": [],
   "source": [
    "import QuantLib as ql"
   ]
  },
  {
   "cell_type": "code",
   "execution_count": 2,
   "metadata": {},
   "outputs": [],
   "source": [
    "ql.Settings.instance().evaluationDate = ql.Date(3, ql.October, 2014)"
   ]
  },
  {
   "cell_type": "markdown",
   "metadata": {},
   "source": [
    "## Specifying the reference date of a term structure  \n",
    "In not-too-accurate terms, the reference date of a term structure is where it begins. It can be the\n",
    "evaluation date, but you might also want it to start on the spot date, for instance.  \n",
    "We have two possibilities to define a reference date for a curve—even though some particular classes\n",
    "only allow one of them.  \n",
    "The first is to define it by means of a (possibly null) offset from the current evaluation date; e.g.,\n",
    "“two business days after the evaluation date” to define it as the spot date, or “no business days” to\n",
    "define it as the evaluation date itself. I’ll do it here by building a sample curve over a few swaps."
   ]
  },
  {
   "cell_type": "code",
   "execution_count": 3,
   "metadata": {},
   "outputs": [],
   "source": [
    "helpers = [\n",
    "    ql.SwapRateHelper(\n",
    "        ql.QuoteHandle(ql.SimpleQuote(rate/100)),\n",
    "        ql.Period(*tenor), ql.TARGET(),\n",
    "        ql.Annual,\n",
    "        ql.Unadjusted,\n",
    "        ql.Thirty360(ql.Thirty360.BondBasis),\n",
    "        ql.Euribor6M()\n",
    "    )\n",
    "    for tenor, rate in [\n",
    "        ((2,ql.Years), 0.201),\n",
    "        ((3,ql.Years), 0.258),\n",
    "        ((5,ql.Years), 0.464),\n",
    "        ((10,ql.Years), 1.151),\n",
    "        ((15,ql.Years), 1.588)\n",
    "    ]\n",
    "]"
   ]
  },
  {
   "cell_type": "code",
   "execution_count": 4,
   "metadata": {},
   "outputs": [],
   "source": [
    "curve1 = ql.PiecewiseFlatForward(0, ql.TARGET(), helpers, ql.Actual360())"
   ]
  },
  {
   "cell_type": "code",
   "execution_count": 6,
   "metadata": {},
   "outputs": [],
   "source": [
    "dates, rates = zip(*curve1.nodes())"
   ]
  },
  {
   "cell_type": "code",
   "execution_count": 11,
   "metadata": {},
   "outputs": [
    {
     "data": {
      "text/plain": [
       "((Date(3,10,2014), 0.0019777694879293093),\n",
       " (Date(7,10,2016), 0.0019777694879293093),\n",
       " (Date(9,10,2017), 0.0036475517704509294),\n",
       " (Date(7,10,2019), 0.007660760701876805),\n",
       " (Date(7,10,2024), 0.018414773669420893),\n",
       " (Date(8,10,2029), 0.025311634328221498))"
      ]
     },
     "execution_count": 11,
     "metadata": {},
     "output_type": "execute_result"
    }
   ],
   "source": [
    "curve1.nodes()"
   ]
  },
  {
   "cell_type": "markdown",
   "metadata": {},
   "source": [
    "The curve built based on these data will be the same as the first, except that we’re specifying its\n",
    "reference date explicitly as October 3rd (the first passed date)."
   ]
  },
  {
   "cell_type": "code",
   "execution_count": 12,
   "metadata": {},
   "outputs": [],
   "source": [
    "curve2 = ql.ForwardCurve(dates, rates, ql.Actual360())"
   ]
  },
  {
   "cell_type": "code",
   "execution_count": 14,
   "metadata": {},
   "outputs": [
    {
     "name": "stdout",
     "output_type": "stream",
     "text": [
      "October 3rd, 2014 to October 8th, 2029\n",
      "October 3rd, 2014 to October 8th, 2029\n"
     ]
    }
   ],
   "source": [
    "print(f\"{curve1.referenceDate()} to {curve1.maxDate()}\")\n",
    "print(f\"{curve2.referenceDate()} to {curve2.maxDate()}\")"
   ]
  },
  {
   "cell_type": "code",
   "execution_count": 15,
   "metadata": {},
   "outputs": [
    {
     "name": "stdout",
     "output_type": "stream",
     "text": [
      "0.452196 % Actual/360 continuous compounding\n",
      "0.452196 % Actual/360 continuous compounding\n"
     ]
    }
   ],
   "source": [
    "print(curve1.zeroRate(5.0, ql.Continuous))\n",
    "print(curve2.zeroRate(5.0, ql.Continuous))"
   ]
  },
  {
   "cell_type": "code",
   "execution_count": 16,
   "metadata": {},
   "outputs": [
    {
     "name": "stdout",
     "output_type": "stream",
     "text": [
      "0.452196 % Actual/360 continuous compounding\n",
      "0.452196 % Actual/360 continuous compounding\n"
     ]
    }
   ],
   "source": [
    "print(curve1.zeroRate(\n",
    "    ql.Date(7, ql.September, 2019),\n",
    "    ql.Actual360(),\n",
    "    ql.Continuous\n",
    "))\n",
    "print(curve2.zeroRate(\n",
    "    ql.Date(7, ql.September, 2019),\n",
    "    ql.Actual360(),\n",
    "    ql.Continuous\n",
    "))"
   ]
  },
  {
   "cell_type": "code",
   "execution_count": null,
   "metadata": {},
   "outputs": [],
   "source": []
  }
 ],
 "metadata": {
  "kernelspec": {
   "display_name": "venv",
   "language": "python",
   "name": "python3"
  },
  "language_info": {
   "codemirror_mode": {
    "name": "ipython",
    "version": 3
   },
   "file_extension": ".py",
   "mimetype": "text/x-python",
   "name": "python",
   "nbconvert_exporter": "python",
   "pygments_lexer": "ipython3",
   "version": "3.11.6"
  }
 },
 "nbformat": 4,
 "nbformat_minor": 2
}
